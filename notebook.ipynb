# prompt: Write a code that run when the notebook started

import IPython

def run_on_start():
  print("Notebook started!")

display(IPython.display.Javascript('''
  google.colab.output.setIframeHeight(0, true, {maxHeight: 5000});
  
  function connect() {
    console.log('Connecting...');
    google.colab.kernel.invokeFunction('notebook.run_on_start', [], {});
  }

  google.colab.kernel.invokeFunction('notebook.run_on_start', [], {});
'''))

